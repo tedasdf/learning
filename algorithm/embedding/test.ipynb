{
 "cells": [
  {
   "cell_type": "code",
   "execution_count": 4,
   "id": "84aa6bc4",
   "metadata": {},
   "outputs": [
    {
     "name": "stdout",
     "output_type": "stream",
     "text": [
      "tensor([[ 0.9950, -0.0998,  0.0000,  0.0000,  0.0000,  0.0000],\n",
      "        [ 0.0998,  0.9950,  0.0000,  0.0000,  0.0000,  0.0000],\n",
      "        [ 0.0000,  0.0000,  0.9950, -0.0998,  0.0000,  0.0000],\n",
      "        [ 0.0000,  0.0000,  0.0998,  0.9950,  0.0000,  0.0000],\n",
      "        [ 0.0000,  0.0000,  0.0000,  0.0000,  0.9950, -0.0998],\n",
      "        [ 0.0000,  0.0000,  0.0000,  0.0000,  0.0998,  0.9950]])\n",
      "torch.Size([6, 6])\n"
     ]
    }
   ],
   "source": [
    "import torch\n",
    "\n",
    "d = 6  # any even number\n",
    "theta = torch.tensor(0.1)\n",
    "\n",
    "# Initialize R\n",
    "R = torch.zeros(d, d)\n",
    "\n",
    "# Fill R with 2x2 rotation blocks\n",
    "for i in range(0, d, 2):\n",
    "    R[i:i+2, i:i+2] = torch.tensor([\n",
    "        [torch.cos(theta), -torch.sin(theta)],\n",
    "        [torch.sin(theta),  torch.cos(theta)]\n",
    "    ])\n",
    "\n",
    "print(R)\n",
    "print(R.shape)  # should be [d, d]\n"
   ]
  },
  {
   "cell_type": "code",
   "execution_count": 2,
   "id": "ed8bc755",
   "metadata": {},
   "outputs": [
    {
     "name": "stdout",
     "output_type": "stream",
     "text": [
      "Collecting welford\n",
      "  Downloading welford-0.2.5.tar.gz (5.1 kB)\n",
      "  Preparing metadata (setup.py): started\n",
      "  Preparing metadata (setup.py): finished with status 'done'\n",
      "Requirement already satisfied: numpy in c:\\users\\teeds\\miniconda3\\envs\\letmesolo\\lib\\site-packages (from welford) (2.3.3)\n",
      "Building wheels for collected packages: welford\n",
      "  Building wheel for welford (setup.py): started\n",
      "  Building wheel for welford (setup.py): finished with status 'done'\n",
      "  Created wheel for welford: filename=welford-0.2.5-py3-none-any.whl size=5521 sha256=e73c1302ea174a0c2e50244c2e4365512c9aa91a7ae9b4f4f83764b04977b96b\n",
      "  Stored in directory: c:\\users\\teeds\\appdata\\local\\pip\\cache\\wheels\\c2\\38\\84\\87d9ceb3fcb841bab3a710683a29133adb5e99d539748190b7\n",
      "Successfully built welford\n",
      "Installing collected packages: welford\n",
      "Successfully installed welford-0.2.5\n"
     ]
    },
    {
     "name": "stderr",
     "output_type": "stream",
     "text": [
      "  DEPRECATION: Building 'welford' using the legacy setup.py bdist_wheel mechanism, which will be removed in a future version. pip 25.3 will enforce this behaviour change. A possible replacement is to use the standardized build interface by setting the `--use-pep517` option, (possibly combined with `--no-build-isolation`), or adding a `pyproject.toml` file to the source tree of 'welford'. Discussion can be found at https://github.com/pypa/pip/issues/6334\n"
     ]
    }
   ],
   "source": [
    "!pip install welford"
   ]
  },
  {
   "cell_type": "code",
   "execution_count": null,
   "id": "5e54e6c0",
   "metadata": {},
   "outputs": [
    {
     "ename": "AttributeError",
     "evalue": "'int' object has no attribute 'shape'",
     "output_type": "error",
     "traceback": [
      "\u001b[31m---------------------------------------------------------------------------\u001b[39m",
      "\u001b[31mAttributeError\u001b[39m                            Traceback (most recent call last)",
      "\u001b[36mCell\u001b[39m\u001b[36m \u001b[39m\u001b[32mIn[8]\u001b[39m\u001b[32m, line 8\u001b[39m\n\u001b[32m      5\u001b[39m data = [\u001b[32m2\u001b[39m, \u001b[32m4\u001b[39m, \u001b[32m4\u001b[39m, \u001b[32m4\u001b[39m, \u001b[32m5\u001b[39m, \u001b[32m5\u001b[39m, \u001b[32m7\u001b[39m, \u001b[32m9\u001b[39m]\n\u001b[32m      7\u001b[39m \u001b[38;5;28;01mfor\u001b[39;00m x \u001b[38;5;129;01min\u001b[39;00m data:\n\u001b[32m----> \u001b[39m\u001b[32m8\u001b[39m     \u001b[43mw\u001b[49m\u001b[43m.\u001b[49m\u001b[43madd\u001b[49m\u001b[43m(\u001b[49m\u001b[43mx\u001b[49m\u001b[43m)\u001b[49m\n\u001b[32m     10\u001b[39m \u001b[38;5;28mprint\u001b[39m(\u001b[33m\"\u001b[39m\u001b[33mMean:\u001b[39m\u001b[33m\"\u001b[39m, w.mean)\n\u001b[32m     11\u001b[39m \u001b[38;5;28mprint\u001b[39m(\u001b[33m\"\u001b[39m\u001b[33mVariance:\u001b[39m\u001b[33m\"\u001b[39m, w.var_s)\n",
      "\u001b[36mFile \u001b[39m\u001b[32mc:\\Users\\teeds\\miniconda3\\envs\\letmesolo\\Lib\\site-packages\\welford\\welford.py:92\u001b[39m, in \u001b[36mWelford.add\u001b[39m\u001b[34m(self, element, backup_flg)\u001b[39m\n\u001b[32m     90\u001b[39m \u001b[38;5;66;03m# Initialize if not yet.\u001b[39;00m\n\u001b[32m     91\u001b[39m \u001b[38;5;28;01mif\u001b[39;00m \u001b[38;5;28mself\u001b[39m.__shape \u001b[38;5;129;01mis\u001b[39;00m \u001b[38;5;28;01mNone\u001b[39;00m:\n\u001b[32m---> \u001b[39m\u001b[32m92\u001b[39m     \u001b[38;5;28mself\u001b[39m.__shape = \u001b[43melement\u001b[49m\u001b[43m.\u001b[49m\u001b[43mshape\u001b[49m\n\u001b[32m     93\u001b[39m     \u001b[38;5;28mself\u001b[39m.__m = np.zeros(element.shape)\n\u001b[32m     94\u001b[39m     \u001b[38;5;28mself\u001b[39m.__s = np.zeros(element.shape)\n",
      "\u001b[31mAttributeError\u001b[39m: 'int' object has no attribute 'shape'"
     ]
    }
   ],
   "source": [
    "from welford import Welford\n",
    "import numpy as np\n",
    "w = Welford()\n",
    "\n",
    "data = [2, 4, 4, 4, 5, 5, 7, 9]\n",
    "\n",
    "for x in data:\n",
    "    w.add(np.array([x]))\n",
    "\n",
    "print(\"Mean:\", w.mean)\n",
    "print(\"Variance:\", w.var_s)\n",
    "print(\"Standard deviation:\", w.var_p)\n"
   ]
  },
  {
   "cell_type": "code",
   "execution_count": null,
   "id": "31e0670e",
   "metadata": {},
   "outputs": [],
   "source": []
  }
 ],
 "metadata": {
  "kernelspec": {
   "display_name": "letmesolo",
   "language": "python",
   "name": "python3"
  },
  "language_info": {
   "codemirror_mode": {
    "name": "ipython",
    "version": 3
   },
   "file_extension": ".py",
   "mimetype": "text/x-python",
   "name": "python",
   "nbconvert_exporter": "python",
   "pygments_lexer": "ipython3",
   "version": "3.11.13"
  }
 },
 "nbformat": 4,
 "nbformat_minor": 5
}
