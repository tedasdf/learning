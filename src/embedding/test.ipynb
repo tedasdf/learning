{
 "cells": [
  {
   "cell_type": "code",
   "execution_count": 4,
   "id": "84aa6bc4",
   "metadata": {},
   "outputs": [
    {
     "name": "stdout",
     "output_type": "stream",
     "text": [
      "tensor([[ 0.9950, -0.0998,  0.0000,  0.0000,  0.0000,  0.0000],\n",
      "        [ 0.0998,  0.9950,  0.0000,  0.0000,  0.0000,  0.0000],\n",
      "        [ 0.0000,  0.0000,  0.9950, -0.0998,  0.0000,  0.0000],\n",
      "        [ 0.0000,  0.0000,  0.0998,  0.9950,  0.0000,  0.0000],\n",
      "        [ 0.0000,  0.0000,  0.0000,  0.0000,  0.9950, -0.0998],\n",
      "        [ 0.0000,  0.0000,  0.0000,  0.0000,  0.0998,  0.9950]])\n",
      "torch.Size([6, 6])\n"
     ]
    }
   ],
   "source": [
    "import torch\n",
    "\n",
    "d = 6  # any even number\n",
    "theta = torch.tensor(0.1)\n",
    "\n",
    "# Initialize R\n",
    "R = torch.zeros(d, d)\n",
    "\n",
    "# Fill R with 2x2 rotation blocks\n",
    "for i in range(0, d, 2):\n",
    "    R[i:i+2, i:i+2] = torch.tensor([\n",
    "        [torch.cos(theta), -torch.sin(theta)],\n",
    "        [torch.sin(theta),  torch.cos(theta)]\n",
    "    ])\n",
    "\n",
    "print(R)\n",
    "print(R.shape)  # should be [d, d]\n"
   ]
  },
  {
   "cell_type": "code",
   "execution_count": null,
   "id": "5e54e6c0",
   "metadata": {},
   "outputs": [],
   "source": []
  }
 ],
 "metadata": {
  "kernelspec": {
   "display_name": "letmesolo",
   "language": "python",
   "name": "python3"
  },
  "language_info": {
   "codemirror_mode": {
    "name": "ipython",
    "version": 3
   },
   "file_extension": ".py",
   "mimetype": "text/x-python",
   "name": "python",
   "nbconvert_exporter": "python",
   "pygments_lexer": "ipython3",
   "version": "3.11.13"
  }
 },
 "nbformat": 4,
 "nbformat_minor": 5
}
